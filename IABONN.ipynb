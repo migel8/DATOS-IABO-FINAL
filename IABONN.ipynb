{
  "cells": [
    {
      "cell_type": "markdown",
      "metadata": {
        "id": "SZJ8C8F5Oln5"
      },
      "source": [
        "#**CARACTERIZACIÓN, CREACIÓN DE DATASET Y LECTURA**\n",
        "\n",
        "***IABO - Inteligencia Artificial de Borde***\n",
        "\n",
        "Javier Chaparro"
      ]
    },
    {
      "cell_type": "markdown",
      "metadata": {
        "id": "dPPMM-2vs9mB"
      },
      "source": [
        "#**Caracterización de las señales de la IMU**\n",
        "\n",
        "En esta primera parte se hace una explicación de la forma de crear un dataset a partir de señales de un sensor inercial embebido en un SoC 33BLEsense desde un archivo de Excel."
      ]
    },
    {
      "cell_type": "markdown",
      "metadata": {
        "id": "np6fzsuO4iZX"
      },
      "source": [
        "Lectura de los datos de archivo de excel\n",
        "\n",
        "Archivos recomendados: \n",
        "1. IMU_ladrilloA0.xlsx\n",
        "2. IMU_pastoA2.xlsx\n",
        "3. IMU_piedraA0.xlsx\n",
        "4. IMU_arenaA0.xlsx"
      ]
    },
    {
      "cell_type": "markdown",
      "metadata": {
        "id": "EC3FgQ0Ptdw-"
      },
      "source": [
        "Se instalan librarias para leer archivo XLSX"
      ]
    },
    {
      "cell_type": "code",
      "execution_count": 3,
      "metadata": {
        "colab": {
          "base_uri": "https://localhost:8080/",
          "height": 373
        },
        "id": "V_8SPh7_Uk5s",
        "outputId": "0ac9a3b8-3b02-470a-e703-88a10642e4d2"
      },
      "outputs": [
        {
          "output_type": "error",
          "ename": "FileNotFoundError",
          "evalue": "ignored",
          "traceback": [
            "\u001b[0;31m---------------------------------------------------------------------------\u001b[0m",
            "\u001b[0;31mFileNotFoundError\u001b[0m                         Traceback (most recent call last)",
            "\u001b[0;32m<ipython-input-3-0b8426a21158>\u001b[0m in \u001b[0;36m<module>\u001b[0;34m\u001b[0m\n\u001b[1;32m      3\u001b[0m \u001b[0;32mimport\u001b[0m \u001b[0mmatplotlib\u001b[0m\u001b[0;34m.\u001b[0m\u001b[0mpyplot\u001b[0m \u001b[0;32mas\u001b[0m \u001b[0mplt\u001b[0m\u001b[0;34m\u001b[0m\u001b[0;34m\u001b[0m\u001b[0m\n\u001b[1;32m      4\u001b[0m \u001b[0;32mimport\u001b[0m \u001b[0mxlrd\u001b[0m\u001b[0;34m\u001b[0m\u001b[0;34m\u001b[0m\u001b[0m\n\u001b[0;32m----> 5\u001b[0;31m \u001b[0mwb\u001b[0m\u001b[0;34m=\u001b[0m\u001b[0mxlrd\u001b[0m\u001b[0;34m.\u001b[0m\u001b[0mopen_workbook\u001b[0m\u001b[0;34m(\u001b[0m\u001b[0;34m\"/content/DatosIABO (1).csv.xlsx\"\u001b[0m\u001b[0;34m)\u001b[0m\u001b[0;34m\u001b[0m\u001b[0;34m\u001b[0m\u001b[0m\n\u001b[0m\u001b[1;32m      6\u001b[0m \u001b[0msheet\u001b[0m \u001b[0;34m=\u001b[0m \u001b[0mwb\u001b[0m\u001b[0;34m.\u001b[0m\u001b[0msheet_by_index\u001b[0m\u001b[0;34m(\u001b[0m\u001b[0;36m0\u001b[0m\u001b[0;34m)\u001b[0m\u001b[0;34m\u001b[0m\u001b[0;34m\u001b[0m\u001b[0m\n\u001b[1;32m      7\u001b[0m \u001b[0;31m# Lectura de las variables de la IMU\u001b[0m\u001b[0;34m\u001b[0m\u001b[0;34m\u001b[0m\u001b[0;34m\u001b[0m\u001b[0m\n",
            "\u001b[0;32m/usr/local/lib/python3.7/dist-packages/xlrd/__init__.py\u001b[0m in \u001b[0;36mopen_workbook\u001b[0;34m(filename, logfile, verbosity, use_mmap, file_contents, encoding_override, formatting_info, on_demand, ragged_rows)\u001b[0m\n\u001b[1;32m    114\u001b[0m         \u001b[0mpeek\u001b[0m \u001b[0;34m=\u001b[0m \u001b[0mfile_contents\u001b[0m\u001b[0;34m[\u001b[0m\u001b[0;34m:\u001b[0m\u001b[0mpeeksz\u001b[0m\u001b[0;34m]\u001b[0m\u001b[0;34m\u001b[0m\u001b[0;34m\u001b[0m\u001b[0m\n\u001b[1;32m    115\u001b[0m     \u001b[0;32melse\u001b[0m\u001b[0;34m:\u001b[0m\u001b[0;34m\u001b[0m\u001b[0;34m\u001b[0m\u001b[0m\n\u001b[0;32m--> 116\u001b[0;31m         \u001b[0;32mwith\u001b[0m \u001b[0mopen\u001b[0m\u001b[0;34m(\u001b[0m\u001b[0mfilename\u001b[0m\u001b[0;34m,\u001b[0m \u001b[0;34m\"rb\"\u001b[0m\u001b[0;34m)\u001b[0m \u001b[0;32mas\u001b[0m \u001b[0mf\u001b[0m\u001b[0;34m:\u001b[0m\u001b[0;34m\u001b[0m\u001b[0;34m\u001b[0m\u001b[0m\n\u001b[0m\u001b[1;32m    117\u001b[0m             \u001b[0mpeek\u001b[0m \u001b[0;34m=\u001b[0m \u001b[0mf\u001b[0m\u001b[0;34m.\u001b[0m\u001b[0mread\u001b[0m\u001b[0;34m(\u001b[0m\u001b[0mpeeksz\u001b[0m\u001b[0;34m)\u001b[0m\u001b[0;34m\u001b[0m\u001b[0;34m\u001b[0m\u001b[0m\n\u001b[1;32m    118\u001b[0m     \u001b[0;32mif\u001b[0m \u001b[0mpeek\u001b[0m \u001b[0;34m==\u001b[0m \u001b[0;34mb\"PK\\x03\\x04\"\u001b[0m\u001b[0;34m:\u001b[0m \u001b[0;31m# a ZIP file\u001b[0m\u001b[0;34m\u001b[0m\u001b[0;34m\u001b[0m\u001b[0m\n",
            "\u001b[0;31mFileNotFoundError\u001b[0m: [Errno 2] No such file or directory: '/content/DatosIABO (1).csv.xlsx'"
          ]
        }
      ],
      "source": [
        "import pandas as pd\n",
        "import numpy as np\n",
        "import matplotlib.pyplot as plt\n",
        "import xlrd\n",
        "wb=xlrd.open_workbook(\"/content/DatosIABO (1).csv.xlsx\")\n",
        "sheet = wb.sheet_by_index(0)\n",
        "# Lectura de las variables de la IMU\n",
        "ax=sheet.col_values(0)\n",
        "ay=sheet.col_values(1)\n",
        "az=sheet.col_values(2)\n",
        "gx=sheet.col_values(3)\n",
        "gy=sheet.col_values(4)\n",
        "gz=sheet.col_values(5)\n",
        "# Gráfica de las variables\n",
        "plt.subplot(321)\n",
        "plt.plot(ax)\n",
        "plt.subplot(322)\n",
        "plt.plot(ay)\n",
        "plt.subplot(323)\n",
        "plt.plot(az)\n",
        "plt.subplot(324)\n",
        "plt.plot(gx)\n",
        "plt.subplot(325)\n",
        "plt.plot(gy)\n",
        "plt.subplot(326)\n",
        "plt.plot(gz)"
      ]
    },
    {
      "cell_type": "markdown",
      "metadata": {
        "id": "Xj22srhEYGz9"
      },
      "source": [
        "Caracterizazión de las señales del acelerómetro y giroscopio obtenidas de la IMU mediante:\n",
        "\n",
        "\n",
        "1.   **Varianza**\n",
        "2.   Entropia (pendiente)\n",
        "\n"
      ]
    },
    {
      "cell_type": "markdown",
      "metadata": {
        "id": "7NBCqYQ6XAqx"
      },
      "source": [
        "Parámetros para la segmentación de la señal y su caracterización"
      ]
    },
    {
      "cell_type": "code",
      "execution_count": null,
      "metadata": {
        "colab": {
          "base_uri": "https://localhost:8080/"
        },
        "id": "cKa30WONY1MM",
        "outputId": "a21b991f-b7c4-43f1-e5a4-99c856994eef"
      },
      "outputs": [
        {
          "output_type": "stream",
          "name": "stdout",
          "text": [
            "Segmentos :  [599.]\n"
          ]
        }
      ],
      "source": [
        "N=10.0                      # Número de muestras\n",
        "nV=np.array(np.shape(ax))   # Número de muestras de la señal\n",
        "segment = np.floor(nV/N)    # Número de segmetos de la señal\n",
        "print(\"Segmentos : \",segment)"
      ]
    },
    {
      "cell_type": "markdown",
      "metadata": {
        "id": "xS_87bu5XS1V"
      },
      "source": [
        "Segmentación y cálculo de la varianza de señales de la clase PIEDRA"
      ]
    },
    {
      "cell_type": "code",
      "execution_count": null,
      "metadata": {
        "colab": {
          "base_uri": "https://localhost:8080/",
          "height": 487
        },
        "id": "d1I100-thdZR",
        "outputId": "f1e04cf6-7fc9-4e52-eeb9-e5c14f4217a9"
      },
      "outputs": [
        {
          "output_type": "stream",
          "name": "stderr",
          "text": [
            "/usr/local/lib/python3.7/dist-packages/ipykernel_launcher.py:8: DeprecationWarning: `np.int` is a deprecated alias for the builtin `int`. To silence this warning, use `int` by itself. Doing this will not modify any behavior and is safe. When replacing `np.int`, you may wish to use e.g. `np.int64` or `np.int32` to specify the precision. If you wish to review your current use, check the release note link for additional information.\n",
            "Deprecated in NumPy 1.20; for more details and guidance: https://numpy.org/devdocs/release/1.20.0-notes.html#deprecations\n",
            "  \n"
          ]
        },
        {
          "output_type": "error",
          "ename": "TypeError",
          "evalue": "ignored",
          "traceback": [
            "\u001b[0;31m---------------------------------------------------------------------------\u001b[0m",
            "\u001b[0;31mTypeError\u001b[0m                                 Traceback (most recent call last)",
            "\u001b[0;32m<ipython-input-24-0492803e4eb9>\u001b[0m in \u001b[0;36m<module>\u001b[0;34m\u001b[0m\n\u001b[1;32m     17\u001b[0m \u001b[0;34m\u001b[0m\u001b[0m\n\u001b[1;32m     18\u001b[0m \u001b[0;34m\u001b[0m\u001b[0m\n\u001b[0;32m---> 19\u001b[0;31m   \u001b[0mvar_ventana_axPI\u001b[0m\u001b[0;34m.\u001b[0m\u001b[0mappend\u001b[0m\u001b[0;34m(\u001b[0m\u001b[0mnp\u001b[0m\u001b[0;34m.\u001b[0m\u001b[0mvar\u001b[0m\u001b[0;34m(\u001b[0m\u001b[0mventana_ax\u001b[0m\u001b[0;34m)\u001b[0m\u001b[0;34m)\u001b[0m\u001b[0;34m\u001b[0m\u001b[0;34m\u001b[0m\u001b[0m\n\u001b[0m\u001b[1;32m     20\u001b[0m   \u001b[0mvar_ventana_ayPI\u001b[0m\u001b[0;34m.\u001b[0m\u001b[0mappend\u001b[0m\u001b[0;34m(\u001b[0m\u001b[0mnp\u001b[0m\u001b[0;34m.\u001b[0m\u001b[0mvar\u001b[0m\u001b[0;34m(\u001b[0m\u001b[0mventana_ay\u001b[0m\u001b[0;34m)\u001b[0m\u001b[0;34m)\u001b[0m\u001b[0;34m\u001b[0m\u001b[0;34m\u001b[0m\u001b[0m\n\u001b[1;32m     21\u001b[0m   \u001b[0mvar_ventana_azPI\u001b[0m\u001b[0;34m.\u001b[0m\u001b[0mappend\u001b[0m\u001b[0;34m(\u001b[0m\u001b[0mnp\u001b[0m\u001b[0;34m.\u001b[0m\u001b[0mvar\u001b[0m\u001b[0;34m(\u001b[0m\u001b[0mventana_az\u001b[0m\u001b[0;34m)\u001b[0m\u001b[0;34m)\u001b[0m\u001b[0;34m\u001b[0m\u001b[0;34m\u001b[0m\u001b[0m\n",
            "\u001b[0;32m<__array_function__ internals>\u001b[0m in \u001b[0;36mvar\u001b[0;34m(*args, **kwargs)\u001b[0m\n",
            "\u001b[0;32m/usr/local/lib/python3.7/dist-packages/numpy/core/fromnumeric.py\u001b[0m in \u001b[0;36mvar\u001b[0;34m(a, axis, dtype, out, ddof, keepdims, where)\u001b[0m\n\u001b[1;32m   3722\u001b[0m \u001b[0;34m\u001b[0m\u001b[0m\n\u001b[1;32m   3723\u001b[0m     return _methods._var(a, axis=axis, dtype=dtype, out=out, ddof=ddof,\n\u001b[0;32m-> 3724\u001b[0;31m                          **kwargs)\n\u001b[0m\u001b[1;32m   3725\u001b[0m \u001b[0;34m\u001b[0m\u001b[0m\n\u001b[1;32m   3726\u001b[0m \u001b[0;34m\u001b[0m\u001b[0m\n",
            "\u001b[0;32m/usr/local/lib/python3.7/dist-packages/numpy/core/_methods.py\u001b[0m in \u001b[0;36m_var\u001b[0;34m(a, axis, dtype, out, ddof, keepdims, where)\u001b[0m\n\u001b[1;32m    210\u001b[0m     \u001b[0;31m# Note that if dtype is not of inexact type then arraymean will\u001b[0m\u001b[0;34m\u001b[0m\u001b[0;34m\u001b[0m\u001b[0;34m\u001b[0m\u001b[0m\n\u001b[1;32m    211\u001b[0m     \u001b[0;31m# not be either.\u001b[0m\u001b[0;34m\u001b[0m\u001b[0;34m\u001b[0m\u001b[0;34m\u001b[0m\u001b[0m\n\u001b[0;32m--> 212\u001b[0;31m     \u001b[0marrmean\u001b[0m \u001b[0;34m=\u001b[0m \u001b[0mumr_sum\u001b[0m\u001b[0;34m(\u001b[0m\u001b[0marr\u001b[0m\u001b[0;34m,\u001b[0m \u001b[0maxis\u001b[0m\u001b[0;34m,\u001b[0m \u001b[0mdtype\u001b[0m\u001b[0;34m,\u001b[0m \u001b[0mkeepdims\u001b[0m\u001b[0;34m=\u001b[0m\u001b[0;32mTrue\u001b[0m\u001b[0;34m,\u001b[0m \u001b[0mwhere\u001b[0m\u001b[0;34m=\u001b[0m\u001b[0mwhere\u001b[0m\u001b[0;34m)\u001b[0m\u001b[0;34m\u001b[0m\u001b[0;34m\u001b[0m\u001b[0m\n\u001b[0m\u001b[1;32m    213\u001b[0m     \u001b[0;31m# The shape of rcount has to match arrmean to not change the shape of out\u001b[0m\u001b[0;34m\u001b[0m\u001b[0;34m\u001b[0m\u001b[0;34m\u001b[0m\u001b[0m\n\u001b[1;32m    214\u001b[0m     \u001b[0;31m# in broadcasting. Otherwise, it cannot be stored back to arrmean.\u001b[0m\u001b[0;34m\u001b[0m\u001b[0;34m\u001b[0m\u001b[0;34m\u001b[0m\u001b[0m\n",
            "\u001b[0;31mTypeError\u001b[0m: cannot perform reduce with flexible type"
          ]
        }
      ],
      "source": [
        "var_ventana_axPI=[]\n",
        "var_ventana_ayPI=[]\n",
        "var_ventana_azPI=[]\n",
        "var_ventana_gxPI=[]\n",
        "var_ventana_gyPI=[]\n",
        "var_ventana_gzPI=[]\n",
        "\n",
        "for i in range (0,np.int(segment)):\n",
        "  ventana_ax=ax[int(i*N):int((i+1)*N)]\n",
        "  ventana_ay=ay[int(i*N):int((i+1)*N)]\n",
        "  ventana_az=az[int(i*N):int((i+1)*N)]\n",
        "  ventana_gx=gx[int(i*N):int((i+1)*N)]\n",
        "  ventana_gy=gy[int(i*N):int((i+1)*N)]\n",
        "  ventana_gz=gz[int(i*N):int((i+1)*N)]\n",
        " \n",
        "\n",
        "\n",
        "  \n",
        "  var_ventana_axPI.append(np.var(ventana_ax))\n",
        "  var_ventana_ayPI.append(np.var(ventana_ay))\n",
        "  var_ventana_azPI.append(np.var(ventana_az))\n",
        "  var_ventana_gxPI.append(np.var(ventana_gx))\n",
        "  var_ventana_gyPI.append(np.var(ventana_gy))\n",
        "  var_ventana_gzPI.append(np.var(ventana_gz))"
      ]
    },
    {
      "cell_type": "markdown",
      "metadata": {
        "id": "9epS8kThmreN"
      },
      "source": [
        "Segmentación y cálculo de la varianza de señales de la clase PASTO"
      ]
    },
    {
      "cell_type": "code",
      "execution_count": null,
      "metadata": {
        "colab": {
          "base_uri": "https://localhost:8080/",
          "height": 373
        },
        "id": "ZgAh4NgyrSby",
        "outputId": "437f2a06-8fd6-455c-a0f8-da165f8948b5"
      },
      "outputs": [
        {
          "ename": "FileNotFoundError",
          "evalue": "ignored",
          "output_type": "error",
          "traceback": [
            "\u001b[0;31m---------------------------------------------------------------------------\u001b[0m",
            "\u001b[0;31mFileNotFoundError\u001b[0m                         Traceback (most recent call last)",
            "\u001b[0;32m<ipython-input-7-21948cfca5fd>\u001b[0m in \u001b[0;36m<module>\u001b[0;34m\u001b[0m\n\u001b[0;32m----> 1\u001b[0;31m \u001b[0mwb\u001b[0m\u001b[0;34m=\u001b[0m\u001b[0mxlrd\u001b[0m\u001b[0;34m.\u001b[0m\u001b[0mopen_workbook\u001b[0m\u001b[0;34m(\u001b[0m\u001b[0;34m\"/content/PISOS/pasto/IMU_pastoA4.xlsx\"\u001b[0m\u001b[0;34m)\u001b[0m\u001b[0;34m\u001b[0m\u001b[0;34m\u001b[0m\u001b[0m\n\u001b[0m\u001b[1;32m      2\u001b[0m \u001b[0msheet\u001b[0m \u001b[0;34m=\u001b[0m \u001b[0mwb\u001b[0m\u001b[0;34m.\u001b[0m\u001b[0msheet_by_index\u001b[0m\u001b[0;34m(\u001b[0m\u001b[0;36m0\u001b[0m\u001b[0;34m)\u001b[0m\u001b[0;34m\u001b[0m\u001b[0;34m\u001b[0m\u001b[0m\n\u001b[1;32m      3\u001b[0m \u001b[0max\u001b[0m\u001b[0;34m=\u001b[0m\u001b[0msheet\u001b[0m\u001b[0;34m.\u001b[0m\u001b[0mcol_values\u001b[0m\u001b[0;34m(\u001b[0m\u001b[0;36m0\u001b[0m\u001b[0;34m)\u001b[0m\u001b[0;34m\u001b[0m\u001b[0;34m\u001b[0m\u001b[0m\n\u001b[1;32m      4\u001b[0m \u001b[0may\u001b[0m\u001b[0;34m=\u001b[0m\u001b[0msheet\u001b[0m\u001b[0;34m.\u001b[0m\u001b[0mcol_values\u001b[0m\u001b[0;34m(\u001b[0m\u001b[0;36m1\u001b[0m\u001b[0;34m)\u001b[0m\u001b[0;34m\u001b[0m\u001b[0;34m\u001b[0m\u001b[0m\n\u001b[1;32m      5\u001b[0m \u001b[0maz\u001b[0m\u001b[0;34m=\u001b[0m\u001b[0msheet\u001b[0m\u001b[0;34m.\u001b[0m\u001b[0mcol_values\u001b[0m\u001b[0;34m(\u001b[0m\u001b[0;36m2\u001b[0m\u001b[0;34m)\u001b[0m\u001b[0;34m\u001b[0m\u001b[0;34m\u001b[0m\u001b[0m\n",
            "\u001b[0;32m/usr/local/lib/python3.7/dist-packages/xlrd/__init__.py\u001b[0m in \u001b[0;36mopen_workbook\u001b[0;34m(filename, logfile, verbosity, use_mmap, file_contents, encoding_override, formatting_info, on_demand, ragged_rows)\u001b[0m\n\u001b[1;32m    114\u001b[0m         \u001b[0mpeek\u001b[0m \u001b[0;34m=\u001b[0m \u001b[0mfile_contents\u001b[0m\u001b[0;34m[\u001b[0m\u001b[0;34m:\u001b[0m\u001b[0mpeeksz\u001b[0m\u001b[0;34m]\u001b[0m\u001b[0;34m\u001b[0m\u001b[0;34m\u001b[0m\u001b[0m\n\u001b[1;32m    115\u001b[0m     \u001b[0;32melse\u001b[0m\u001b[0;34m:\u001b[0m\u001b[0;34m\u001b[0m\u001b[0;34m\u001b[0m\u001b[0m\n\u001b[0;32m--> 116\u001b[0;31m         \u001b[0;32mwith\u001b[0m \u001b[0mopen\u001b[0m\u001b[0;34m(\u001b[0m\u001b[0mfilename\u001b[0m\u001b[0;34m,\u001b[0m \u001b[0;34m\"rb\"\u001b[0m\u001b[0;34m)\u001b[0m \u001b[0;32mas\u001b[0m \u001b[0mf\u001b[0m\u001b[0;34m:\u001b[0m\u001b[0;34m\u001b[0m\u001b[0;34m\u001b[0m\u001b[0m\n\u001b[0m\u001b[1;32m    117\u001b[0m             \u001b[0mpeek\u001b[0m \u001b[0;34m=\u001b[0m \u001b[0mf\u001b[0m\u001b[0;34m.\u001b[0m\u001b[0mread\u001b[0m\u001b[0;34m(\u001b[0m\u001b[0mpeeksz\u001b[0m\u001b[0;34m)\u001b[0m\u001b[0;34m\u001b[0m\u001b[0;34m\u001b[0m\u001b[0m\n\u001b[1;32m    118\u001b[0m     \u001b[0;32mif\u001b[0m \u001b[0mpeek\u001b[0m \u001b[0;34m==\u001b[0m \u001b[0;34mb\"PK\\x03\\x04\"\u001b[0m\u001b[0;34m:\u001b[0m \u001b[0;31m# a ZIP file\u001b[0m\u001b[0;34m\u001b[0m\u001b[0;34m\u001b[0m\u001b[0m\n",
            "\u001b[0;31mFileNotFoundError\u001b[0m: [Errno 2] No such file or directory: '/content/PISOS/pasto/IMU_pastoA4.xlsx'"
          ]
        }
      ],
      "source": [
        "wb=xlrd.open_workbook(\"/content/PISOS/pasto/IMU_pastoA4.xlsx\")\n",
        "sheet = wb.sheet_by_index(0)\n",
        "ax=sheet.col_values(0)\n",
        "ay=sheet.col_values(1)\n",
        "az=sheet.col_values(2)\n",
        "gx=sheet.col_values(3)\n",
        "gy=sheet.col_values(4)\n",
        "gz=sheet.col_values(5)\n",
        "var_ventana_axPA=[]\n",
        "var_ventana_ayPA=[]\n",
        "var_ventana_azPA=[]\n",
        "var_ventana_gxPA=[]\n",
        "var_ventana_gyPA=[]\n",
        "var_ventana_gzPA=[]\n",
        "\n",
        "for i in range (0,np.int(segment)):\n",
        "  ventana_axPA=ax[int(i*N):int((i+1)*N)]\n",
        "  ventana_ayPA=ay[int(i*N):int((i+1)*N)]\n",
        "  ventana_azPA=az[int(i*N):int((i+1)*N)]\n",
        "  ventana_gxPA=gx[int(i*N):int((i+1)*N)]\n",
        "  ventana_gyPA=gy[int(i*N):int((i+1)*N)]\n",
        "  ventana_gzPA=gz[int(i*N):int((i+1)*N)]\n",
        "  var_ventana_axPA.append(np.var(ventana_axPA))\n",
        "  var_ventana_ayPA.append(np.var(ventana_ayPA))\n",
        "  var_ventana_azPA.append(np.var(ventana_azPA))\n",
        "  var_ventana_gxPA.append(np.var(ventana_gxPA))\n",
        "  var_ventana_gyPA.append(np.var(ventana_gyPA))\n",
        "  var_ventana_gzPA.append(np.var(ventana_gzPA))"
      ]
    },
    {
      "cell_type": "markdown",
      "metadata": {
        "id": "s-HVP9RtuU8F"
      },
      "source": [
        "Comparación gráfica de la característica \"Varianza\" en las dos clases (PIEDRA y PASTO)"
      ]
    },
    {
      "cell_type": "code",
      "execution_count": null,
      "metadata": {
        "id": "K9-wdLfa_-8g"
      },
      "outputs": [],
      "source": [
        "plt.subplot(321)\n",
        "plt.plot(var_ventana_axPI)\n",
        "plt.subplot(323)\n",
        "plt.plot(var_ventana_ayPI)\n",
        "plt.subplot(325)\n",
        "plt.plot(var_ventana_azPI)\n",
        "plt.subplot(322)\n",
        "plt.plot(var_ventana_axPA)\n",
        "plt.subplot(324)\n",
        "plt.plot(var_ventana_ayPA)\n",
        "plt.subplot(326)\n",
        "plt.plot(var_ventana_azPA)"
      ]
    },
    {
      "cell_type": "markdown",
      "metadata": {
        "id": "bU77W1Yh9PdN"
      },
      "source": [
        "Creación del vector de clases de los dos grupos"
      ]
    },
    {
      "cell_type": "code",
      "execution_count": null,
      "metadata": {
        "id": "RLEXzCWxDmq5"
      },
      "outputs": [],
      "source": [
        "N=np.size(var_ventana_ayPI)\n",
        "clases=[]\n",
        "clasePI=[]\n",
        "for n in range(N):\n",
        "  clases.append(0)\n",
        "  clasePI.append(0)\n",
        "N=np.size(var_ventana_ayPA)\n",
        "for n in range(N):\n",
        "  clases.append(1)\n",
        "clases=np.transpose(clases)\n",
        "print(clases)"
      ]
    },
    {
      "cell_type": "markdown",
      "metadata": {
        "id": "-eRtsZ-x7fhF"
      },
      "source": [
        "#**Creación de Dataset**"
      ]
    },
    {
      "cell_type": "markdown",
      "metadata": {
        "id": "Wnv9L2cb7jPM"
      },
      "source": [
        "Teniendo las características anteriores se crea el Dataset  a partir de un Dataframe"
      ]
    },
    {
      "cell_type": "code",
      "execution_count": null,
      "metadata": {
        "colab": {
          "base_uri": "https://localhost:8080/",
          "height": 235
        },
        "id": "yowv5MgHE7mv",
        "outputId": "0e21e2db-74da-4296-976e-7987eef3991e"
      },
      "outputs": [
        {
          "ename": "NameError",
          "evalue": "ignored",
          "output_type": "error",
          "traceback": [
            "\u001b[0;31m---------------------------------------------------------------------------\u001b[0m",
            "\u001b[0;31mNameError\u001b[0m                                 Traceback (most recent call last)",
            "\u001b[0;32m<ipython-input-2-29792b28ba41>\u001b[0m in \u001b[0;36m<module>\u001b[0;34m\u001b[0m\n\u001b[1;32m      1\u001b[0m \u001b[0;31m# Unión de las dos características anteriores\u001b[0m\u001b[0;34m\u001b[0m\u001b[0;34m\u001b[0m\u001b[0;34m\u001b[0m\u001b[0m\n\u001b[0;32m----> 2\u001b[0;31m \u001b[0mcaracteristica1\u001b[0m\u001b[0;34m=\u001b[0m\u001b[0mvar_ventana_ayPI\u001b[0m\u001b[0;34m+\u001b[0m\u001b[0mvar_ventana_ayPA\u001b[0m\u001b[0;34m\u001b[0m\u001b[0;34m\u001b[0m\u001b[0m\n\u001b[0m\u001b[1;32m      3\u001b[0m \u001b[0mcaracteristica2\u001b[0m\u001b[0;34m=\u001b[0m\u001b[0mvar_ventana_azPI\u001b[0m\u001b[0;34m+\u001b[0m\u001b[0mvar_ventana_azPA\u001b[0m\u001b[0;34m\u001b[0m\u001b[0;34m\u001b[0m\u001b[0m\n\u001b[1;32m      4\u001b[0m \u001b[0mcaracteristicas\u001b[0m\u001b[0;34m=\u001b[0m\u001b[0;34m[\u001b[0m\u001b[0mcaracteristica1\u001b[0m\u001b[0;34m,\u001b[0m\u001b[0mcaracteristica2\u001b[0m\u001b[0;34m]\u001b[0m\u001b[0;34m\u001b[0m\u001b[0;34m\u001b[0m\u001b[0m\n\u001b[1;32m      5\u001b[0m \u001b[0mcaracteristicas\u001b[0m\u001b[0;34m=\u001b[0m\u001b[0mnp\u001b[0m\u001b[0;34m.\u001b[0m\u001b[0marray\u001b[0m\u001b[0;34m(\u001b[0m\u001b[0mnp\u001b[0m\u001b[0;34m.\u001b[0m\u001b[0mtranspose\u001b[0m\u001b[0;34m(\u001b[0m\u001b[0mcaracteristicas\u001b[0m\u001b[0;34m)\u001b[0m\u001b[0;34m)\u001b[0m\u001b[0;34m\u001b[0m\u001b[0;34m\u001b[0m\u001b[0m\n",
            "\u001b[0;31mNameError\u001b[0m: name 'var_ventana_ayPI' is not defined"
          ]
        }
      ],
      "source": [
        "# Unión de las dos características anteriores\n",
        "caracteristica1=var_ventana_ayPI+var_ventana_ayPA\n",
        "caracteristica2=var_ventana_azPI+var_ventana_azPA\n",
        "caracteristicas=[caracteristica1,caracteristica2]\n",
        "caracteristicas=np.array(np.transpose(caracteristicas))"
      ]
    },
    {
      "cell_type": "markdown",
      "metadata": {
        "id": "D7ljwz4YvaMU"
      },
      "source": [
        "Creación de archivo de Excel con las características y clases"
      ]
    },
    {
      "cell_type": "code",
      "execution_count": null,
      "metadata": {
        "colab": {
          "base_uri": "https://localhost:8080/",
          "height": 235
        },
        "id": "rJnK4AZ_CUwY",
        "outputId": "1f0ba7b5-65a4-46a2-9019-483c3b5ee8e2"
      },
      "outputs": [
        {
          "ename": "NameError",
          "evalue": "ignored",
          "output_type": "error",
          "traceback": [
            "\u001b[0;31m---------------------------------------------------------------------------\u001b[0m",
            "\u001b[0;31mNameError\u001b[0m                                 Traceback (most recent call last)",
            "\u001b[0;32m<ipython-input-8-a5103acf6978>\u001b[0m in \u001b[0;36m<module>\u001b[0;34m\u001b[0m\n\u001b[1;32m      2\u001b[0m \u001b[0;32mimport\u001b[0m \u001b[0mpandas\u001b[0m \u001b[0;32mas\u001b[0m \u001b[0mpd\u001b[0m\u001b[0;34m\u001b[0m\u001b[0;34m\u001b[0m\u001b[0m\n\u001b[1;32m      3\u001b[0m \u001b[0;34m\u001b[0m\u001b[0m\n\u001b[0;32m----> 4\u001b[0;31m datos={'Varianza_aY': caracteristica1,\n\u001b[0m\u001b[1;32m      5\u001b[0m        \u001b[0;34m'Varianza_aZ'\u001b[0m\u001b[0;34m:\u001b[0m \u001b[0mcaracteristica2\u001b[0m\u001b[0;34m,\u001b[0m\u001b[0;34m\u001b[0m\u001b[0;34m\u001b[0m\u001b[0m\n\u001b[1;32m      6\u001b[0m        'Suelo':clases}\n",
            "\u001b[0;31mNameError\u001b[0m: name 'caracteristica1' is not defined"
          ]
        }
      ],
      "source": [
        "# Creación del DataFrame\n",
        "import pandas as pd\n",
        "\n",
        "datos={'Varianza_aY': caracteristica1,\n",
        "       'Varianza_aZ': caracteristica2,\n",
        "       'Suelo':clases}\n",
        "\n",
        "datosDF=pd.DataFrame(datos)\n",
        "print(datosDF)"
      ]
    },
    {
      "cell_type": "code",
      "execution_count": null,
      "metadata": {
        "id": "LaaTKEgsvlWt"
      },
      "outputs": [],
      "source": [
        "#Creación del archivo de Excel\n",
        "datosDF.to_excel(\"caracteristicas.xlsx\")"
      ]
    },
    {
      "cell_type": "markdown",
      "metadata": {
        "id": "dtOSZYhwQKUI"
      },
      "source": [
        "#**Clonación del repositorio**\n",
        "\n",
        "Se hace la clonación del respositorio público ubicado en gitHub."
      ]
    },
    {
      "cell_type": "markdown",
      "source": [
        "# Nueva sección"
      ],
      "metadata": {
        "id": "LC-rXblxR6_Q"
      }
    },
    {
      "cell_type": "code",
      "execution_count": 1,
      "metadata": {
        "colab": {
          "base_uri": "https://localhost:8080/"
        },
        "id": "GnWlNswMJ3T9",
        "outputId": "d200cb8d-e8ba-44b2-80c4-b8d3f1ce32d2"
      },
      "outputs": [
        {
          "output_type": "stream",
          "name": "stdout",
          "text": [
            "Cloning into 'datosdatos-IABO'...\n",
            "remote: Enumerating objects: 6, done.\u001b[K\n",
            "remote: Counting objects: 100% (6/6), done.\u001b[K\n",
            "remote: Compressing objects: 100% (4/4), done.\u001b[K\n",
            "remote: Total 6 (delta 0), reused 0 (delta 0), pack-reused 0\u001b[K\n",
            "Unpacking objects: 100% (6/6), done.\n",
            "Cloning into 'DataSet'...\n",
            "remote: Enumerating objects: 4, done.\u001b[K\n",
            "remote: Counting objects: 100% (4/4), done.\u001b[K\n",
            "remote: Compressing objects: 100% (4/4), done.\u001b[K\n",
            "remote: Total 4 (delta 0), reused 0 (delta 0), pack-reused 0\u001b[K\n",
            "Unpacking objects: 100% (4/4), done.\n"
          ]
        }
      ],
      "source": [
        "!git clone https://github.com/migel8/datosdatos-IABO.git\n",
        "!rm -rf '/content/DatosIABO (1).csv.xlsx'\n",
        "!git clone https://github.com/Jhongom/DataSet.git"
      ]
    },
    {
      "cell_type": "code",
      "execution_count": null,
      "metadata": {
        "id": "5K1U10hoSZaO"
      },
      "outputs": [],
      "source": [
        "import pandas as pd\n",
        "import numpy as np\n",
        "import matplotlib.pyplot as plt\n",
        "import xlrd"
      ]
    },
    {
      "cell_type": "code",
      "execution_count": null,
      "metadata": {
        "colab": {
          "base_uri": "https://localhost:8080/",
          "height": 373
        },
        "id": "AfSDZuoRKW2L",
        "outputId": "f6e6de36-111a-4bc8-d495-e8d98aca9049"
      },
      "outputs": [
        {
          "output_type": "error",
          "ename": "FileNotFoundError",
          "evalue": "ignored",
          "traceback": [
            "\u001b[0;31m---------------------------------------------------------------------------\u001b[0m",
            "\u001b[0;31mFileNotFoundError\u001b[0m                         Traceback (most recent call last)",
            "\u001b[0;32m<ipython-input-10-412656901f1a>\u001b[0m in \u001b[0;36m<module>\u001b[0;34m\u001b[0m\n\u001b[1;32m      3\u001b[0m \u001b[0;32mimport\u001b[0m \u001b[0mmatplotlib\u001b[0m\u001b[0;34m.\u001b[0m\u001b[0mpyplot\u001b[0m \u001b[0;32mas\u001b[0m \u001b[0mplt\u001b[0m\u001b[0;34m\u001b[0m\u001b[0;34m\u001b[0m\u001b[0m\n\u001b[1;32m      4\u001b[0m \u001b[0;32mimport\u001b[0m \u001b[0mxlrd\u001b[0m\u001b[0;34m\u001b[0m\u001b[0;34m\u001b[0m\u001b[0m\n\u001b[0;32m----> 5\u001b[0;31m \u001b[0mwb\u001b[0m\u001b[0;34m=\u001b[0m\u001b[0mxlrd\u001b[0m\u001b[0;34m.\u001b[0m\u001b[0mopen_workbook\u001b[0m\u001b[0;34m(\u001b[0m\u001b[0;34m\"DatosIABO.xlsx\"\u001b[0m\u001b[0;34m)\u001b[0m\u001b[0;34m\u001b[0m\u001b[0;34m\u001b[0m\u001b[0m\n\u001b[0m\u001b[1;32m      6\u001b[0m \u001b[0msheet\u001b[0m \u001b[0;34m=\u001b[0m \u001b[0mwb\u001b[0m\u001b[0;34m.\u001b[0m\u001b[0msheet_by_index\u001b[0m\u001b[0;34m(\u001b[0m\u001b[0;36m0\u001b[0m\u001b[0;34m)\u001b[0m\u001b[0;34m\u001b[0m\u001b[0;34m\u001b[0m\u001b[0m\n\u001b[1;32m      7\u001b[0m \u001b[0maxx\u001b[0m\u001b[0;34m=\u001b[0m\u001b[0msheet\u001b[0m\u001b[0;34m.\u001b[0m\u001b[0mcol_values\u001b[0m\u001b[0;34m(\u001b[0m\u001b[0;36m1\u001b[0m\u001b[0;34m,\u001b[0m\u001b[0mstart_rowx\u001b[0m\u001b[0;34m=\u001b[0m\u001b[0;36m1\u001b[0m\u001b[0;34m)\u001b[0m\u001b[0;34m\u001b[0m\u001b[0;34m\u001b[0m\u001b[0m\n",
            "\u001b[0;32m/usr/local/lib/python3.7/dist-packages/xlrd/__init__.py\u001b[0m in \u001b[0;36mopen_workbook\u001b[0;34m(filename, logfile, verbosity, use_mmap, file_contents, encoding_override, formatting_info, on_demand, ragged_rows)\u001b[0m\n\u001b[1;32m    114\u001b[0m         \u001b[0mpeek\u001b[0m \u001b[0;34m=\u001b[0m \u001b[0mfile_contents\u001b[0m\u001b[0;34m[\u001b[0m\u001b[0;34m:\u001b[0m\u001b[0mpeeksz\u001b[0m\u001b[0;34m]\u001b[0m\u001b[0;34m\u001b[0m\u001b[0;34m\u001b[0m\u001b[0m\n\u001b[1;32m    115\u001b[0m     \u001b[0;32melse\u001b[0m\u001b[0;34m:\u001b[0m\u001b[0;34m\u001b[0m\u001b[0;34m\u001b[0m\u001b[0m\n\u001b[0;32m--> 116\u001b[0;31m         \u001b[0;32mwith\u001b[0m \u001b[0mopen\u001b[0m\u001b[0;34m(\u001b[0m\u001b[0mfilename\u001b[0m\u001b[0;34m,\u001b[0m \u001b[0;34m\"rb\"\u001b[0m\u001b[0;34m)\u001b[0m \u001b[0;32mas\u001b[0m \u001b[0mf\u001b[0m\u001b[0;34m:\u001b[0m\u001b[0;34m\u001b[0m\u001b[0;34m\u001b[0m\u001b[0m\n\u001b[0m\u001b[1;32m    117\u001b[0m             \u001b[0mpeek\u001b[0m \u001b[0;34m=\u001b[0m \u001b[0mf\u001b[0m\u001b[0;34m.\u001b[0m\u001b[0mread\u001b[0m\u001b[0;34m(\u001b[0m\u001b[0mpeeksz\u001b[0m\u001b[0;34m)\u001b[0m\u001b[0;34m\u001b[0m\u001b[0;34m\u001b[0m\u001b[0m\n\u001b[1;32m    118\u001b[0m     \u001b[0;32mif\u001b[0m \u001b[0mpeek\u001b[0m \u001b[0;34m==\u001b[0m \u001b[0;34mb\"PK\\x03\\x04\"\u001b[0m\u001b[0;34m:\u001b[0m \u001b[0;31m# a ZIP file\u001b[0m\u001b[0;34m\u001b[0m\u001b[0;34m\u001b[0m\u001b[0m\n",
            "\u001b[0;31mFileNotFoundError\u001b[0m: [Errno 2] No such file or directory: 'DatosIABO.xlsx'"
          ]
        }
      ],
      "source": [
        "import pandas as pd\n",
        "import numpy as np\n",
        "import matplotlib.pyplot as plt\n",
        "import xlrd\n",
        "wb=xlrd.open_workbook(\"DatosIABO.xlsx\")\n",
        "sheet = wb.sheet_by_index(0)\n",
        "axx=sheet.col_values(1,start_rowx=1)\n",
        "ayy=sheet.col_values(2,start_rowx=1)\n",
        "clases=np.array(sheet.col_values(3,start_rowx=1))\n",
        "plt.plot(axx)\n",
        "plt.figure()\n",
        "plt.plot(ayy)"
      ]
    },
    {
      "cell_type": "code",
      "execution_count": null,
      "metadata": {
        "id": "vrSN_x4kAEIH"
      },
      "outputs": [],
      "source": [
        "print(clases)"
      ]
    },
    {
      "cell_type": "code",
      "execution_count": null,
      "metadata": {
        "colab": {
          "base_uri": "https://localhost:8080/",
          "height": 313
        },
        "id": "HrlTQ_UqqXba",
        "outputId": "6e7f9916-f0f3-481e-b086-8db4b68d9f21"
      },
      "outputs": [
        {
          "data": {
            "text/plain": [
              "[<matplotlib.lines.Line2D at 0x7f324f584b50>,\n",
              " <matplotlib.lines.Line2D at 0x7f324f584350>]"
            ]
          },
          "execution_count": 67,
          "metadata": {},
          "output_type": "execute_result"
        },
        {
          "data": {
            "image/png": "[encoded data removed]",
            "text/plain": [
              "<Figure size 432x288 with 1 Axes>"
            ]
          },
          "metadata": {},
          "output_type": "display_data"
        }
      ],
      "source": [
        "from sklearn.model_selection import train_test_split\n",
        "X=np.array([axx,ayy])\n",
        "X=X.transpose()\n",
        "plt.plot(X)"
      ]
    },
    {
      "cell_type": "markdown",
      "metadata": {
        "id": "Yc83SDmGo6pi"
      },
      "source": [
        "División del dataset"
      ]
    },
    {
      "cell_type": "code",
      "execution_count": null,
      "metadata": {
        "colab": {
          "base_uri": "https://localhost:8080/",
          "height": 572
        },
        "id": "Ykkk6OzYrgl1",
        "outputId": "e580c98d-7a06-406c-b5af-f931a141b534"
      },
      "outputs": [
        {
          "data": {
            "text/plain": [
              "[<matplotlib.lines.Line2D at 0x7f324f637090>,\n",
              " <matplotlib.lines.Line2D at 0x7f324f6373d0>]"
            ]
          },
          "execution_count": 68,
          "metadata": {},
          "output_type": "execute_result"
        },
        {
          "data": {
            "image/png": "[encoded data removed]",
            "text/plain": [
              "<Figure size 432x288 with 1 Axes>"
            ]
          },
          "metadata": {},
          "output_type": "display_data"
        },
        {
          "data": {
            "image/png": "[encoded data removed]",
            "text/plain": [
              "<Figure size 432x288 with 1 Axes>"
            ]
          },
          "metadata": {},
          "output_type": "display_data"
        }
      ],
      "source": [
        "X_train,X_test,y_train,y_test = train_test_split(X,clases,test_size=0.3)\n",
        "plt.plot(X_train)\n",
        "plt.figure()\n",
        "plt.plot(X_test)"
      ]
    },
    {
      "cell_type": "code",
      "execution_count": null,
      "metadata": {
        "id": "jpesslD3fprc"
      },
      "outputs": [],
      "source": []
    },
    {
      "cell_type": "markdown",
      "metadata": {
        "id": "Bt1OWG7yC7yA"
      },
      "source": [
        "Clases del grupo de prueba\n",
        "\n"
      ]
    },
    {
      "cell_type": "code",
      "execution_count": null,
      "metadata": {
        "colab": {
          "base_uri": "https://localhost:8080/"
        },
        "id": "Rtp-LDucAUm3",
        "outputId": "27572f07-7775-41dd-e3bd-1096eaca1865"
      },
      "outputs": [
        {
          "name": "stdout",
          "output_type": "stream",
          "text": [
            "[1. 1. 0. 0. 0. 1. 1. 0. 1. 1. 0. 1. 0. 0. 1. 1. 1. 1. 1. 0. 1. 1. 1. 0.\n",
            " 1. 1. 1. 0. 0. 1.]\n"
          ]
        }
      ],
      "source": [
        "print(y_test)"
      ]
    }
  ],
  "metadata": {
    "colab": {
      "collapsed_sections": [],
      "provenance": []
    },
    "kernelspec": {
      "display_name": "Python 3",
      "name": "python3"
    },
    "language_info": {
      "name": "python"
    }
  },
  "nbformat": 4,
  "nbformat_minor": 0
}